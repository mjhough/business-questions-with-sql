{
 "cells": [
  {
   "cell_type": "code",
   "execution_count": 1,
   "metadata": {},
   "outputs": [
    {
     "name": "stderr",
     "output_type": "stream",
     "text": [
      "/Users/hough/anaconda3/lib/python3.6/site-packages/matplotlib/font_manager.py:278: UserWarning: Matplotlib is building the font cache using fc-list. This may take a moment.\n",
      "  'Matplotlib is building the font cache using fc-list. '\n"
     ]
    }
   ],
   "source": [
    "import sqlite3\n",
    "import pandas as pd\n",
    "import seaborn as sns\n",
    "import matplotlib.pyplot as plt"
   ]
  },
  {
   "cell_type": "code",
   "execution_count": 2,
   "metadata": {
    "collapsed": true
   },
   "outputs": [],
   "source": [
    "%matplotlib inline"
   ]
  },
  {
   "cell_type": "code",
   "execution_count": 3,
   "metadata": {},
   "outputs": [],
   "source": [
    "# Create run_query function\n",
    "def run_query(query):\n",
    "    with sqlite3.connect('chinook.db') as conn:\n",
    "        return pd.read_sql(query, conn)"
   ]
  },
  {
   "cell_type": "code",
   "execution_count": 4,
   "metadata": {
    "collapsed": true
   },
   "outputs": [],
   "source": [
    "# Create run_command function\n",
    "def run_command(command):\n",
    "    with sqlite3.connect('chinook.db') as conn:\n",
    "        return conn.cursor().execute(command)"
   ]
  },
  {
   "cell_type": "code",
   "execution_count": 5,
   "metadata": {},
   "outputs": [],
   "source": [
    "# Create show_tables function\n",
    "def show_tables():\n",
    "    return run_query(\"SELECT name, type FROM sqlite_master WHERE type IN ('table','view')\")"
   ]
  },
  {
   "cell_type": "code",
   "execution_count": 6,
   "metadata": {},
   "outputs": [
    {
     "data": {
      "text/html": [
       "<div>\n",
       "<style>\n",
       "    .dataframe thead tr:only-child th {\n",
       "        text-align: right;\n",
       "    }\n",
       "\n",
       "    .dataframe thead th {\n",
       "        text-align: left;\n",
       "    }\n",
       "\n",
       "    .dataframe tbody tr th {\n",
       "        vertical-align: top;\n",
       "    }\n",
       "</style>\n",
       "<table border=\"1\" class=\"dataframe\">\n",
       "  <thead>\n",
       "    <tr style=\"text-align: right;\">\n",
       "      <th></th>\n",
       "      <th>name</th>\n",
       "      <th>type</th>\n",
       "    </tr>\n",
       "  </thead>\n",
       "  <tbody>\n",
       "    <tr>\n",
       "      <th>0</th>\n",
       "      <td>album</td>\n",
       "      <td>table</td>\n",
       "    </tr>\n",
       "    <tr>\n",
       "      <th>1</th>\n",
       "      <td>artist</td>\n",
       "      <td>table</td>\n",
       "    </tr>\n",
       "    <tr>\n",
       "      <th>2</th>\n",
       "      <td>customer</td>\n",
       "      <td>table</td>\n",
       "    </tr>\n",
       "    <tr>\n",
       "      <th>3</th>\n",
       "      <td>employee</td>\n",
       "      <td>table</td>\n",
       "    </tr>\n",
       "    <tr>\n",
       "      <th>4</th>\n",
       "      <td>genre</td>\n",
       "      <td>table</td>\n",
       "    </tr>\n",
       "    <tr>\n",
       "      <th>5</th>\n",
       "      <td>invoice</td>\n",
       "      <td>table</td>\n",
       "    </tr>\n",
       "    <tr>\n",
       "      <th>6</th>\n",
       "      <td>invoice_line</td>\n",
       "      <td>table</td>\n",
       "    </tr>\n",
       "    <tr>\n",
       "      <th>7</th>\n",
       "      <td>media_type</td>\n",
       "      <td>table</td>\n",
       "    </tr>\n",
       "    <tr>\n",
       "      <th>8</th>\n",
       "      <td>playlist</td>\n",
       "      <td>table</td>\n",
       "    </tr>\n",
       "    <tr>\n",
       "      <th>9</th>\n",
       "      <td>playlist_track</td>\n",
       "      <td>table</td>\n",
       "    </tr>\n",
       "    <tr>\n",
       "      <th>10</th>\n",
       "      <td>track</td>\n",
       "      <td>table</td>\n",
       "    </tr>\n",
       "    <tr>\n",
       "      <th>11</th>\n",
       "      <td>album_track_counts</td>\n",
       "      <td>view</td>\n",
       "    </tr>\n",
       "  </tbody>\n",
       "</table>\n",
       "</div>"
      ],
      "text/plain": [
       "                  name   type\n",
       "0                album  table\n",
       "1               artist  table\n",
       "2             customer  table\n",
       "3             employee  table\n",
       "4                genre  table\n",
       "5              invoice  table\n",
       "6         invoice_line  table\n",
       "7           media_type  table\n",
       "8             playlist  table\n",
       "9       playlist_track  table\n",
       "10               track  table\n",
       "11  album_track_counts   view"
      ]
     },
     "execution_count": 6,
     "metadata": {},
     "output_type": "execute_result"
    }
   ],
   "source": [
    "show_tables()"
   ]
  },
  {
   "cell_type": "markdown",
   "metadata": {},
   "source": [
    "# Best selling record genres in the USA"
   ]
  },
  {
   "cell_type": "code",
   "execution_count": 7,
   "metadata": {},
   "outputs": [
    {
     "data": {
      "text/html": [
       "<div>\n",
       "<style>\n",
       "    .dataframe thead tr:only-child th {\n",
       "        text-align: right;\n",
       "    }\n",
       "\n",
       "    .dataframe thead th {\n",
       "        text-align: left;\n",
       "    }\n",
       "\n",
       "    .dataframe tbody tr th {\n",
       "        vertical-align: top;\n",
       "    }\n",
       "</style>\n",
       "<table border=\"1\" class=\"dataframe\">\n",
       "  <thead>\n",
       "    <tr style=\"text-align: right;\">\n",
       "      <th></th>\n",
       "      <th>genre</th>\n",
       "      <th>no_tracks_sold</th>\n",
       "      <th>percent_tracks_sold</th>\n",
       "    </tr>\n",
       "  </thead>\n",
       "  <tbody>\n",
       "    <tr>\n",
       "      <th>0</th>\n",
       "      <td>Alternative</td>\n",
       "      <td>35</td>\n",
       "      <td>3.330162</td>\n",
       "    </tr>\n",
       "    <tr>\n",
       "      <th>1</th>\n",
       "      <td>Alternative &amp; Punk</td>\n",
       "      <td>130</td>\n",
       "      <td>12.369172</td>\n",
       "    </tr>\n",
       "    <tr>\n",
       "      <th>2</th>\n",
       "      <td>Blues</td>\n",
       "      <td>36</td>\n",
       "      <td>3.425309</td>\n",
       "    </tr>\n",
       "    <tr>\n",
       "      <th>3</th>\n",
       "      <td>Classical</td>\n",
       "      <td>4</td>\n",
       "      <td>0.380590</td>\n",
       "    </tr>\n",
       "    <tr>\n",
       "      <th>4</th>\n",
       "      <td>Easy Listening</td>\n",
       "      <td>13</td>\n",
       "      <td>1.236917</td>\n",
       "    </tr>\n",
       "    <tr>\n",
       "      <th>5</th>\n",
       "      <td>Electronica/Dance</td>\n",
       "      <td>5</td>\n",
       "      <td>0.475737</td>\n",
       "    </tr>\n",
       "    <tr>\n",
       "      <th>6</th>\n",
       "      <td>Heavy Metal</td>\n",
       "      <td>3</td>\n",
       "      <td>0.285442</td>\n",
       "    </tr>\n",
       "    <tr>\n",
       "      <th>7</th>\n",
       "      <td>Hip Hop/Rap</td>\n",
       "      <td>20</td>\n",
       "      <td>1.902950</td>\n",
       "    </tr>\n",
       "    <tr>\n",
       "      <th>8</th>\n",
       "      <td>Jazz</td>\n",
       "      <td>14</td>\n",
       "      <td>1.332065</td>\n",
       "    </tr>\n",
       "    <tr>\n",
       "      <th>9</th>\n",
       "      <td>Latin</td>\n",
       "      <td>22</td>\n",
       "      <td>2.093245</td>\n",
       "    </tr>\n",
       "    <tr>\n",
       "      <th>10</th>\n",
       "      <td>Metal</td>\n",
       "      <td>124</td>\n",
       "      <td>11.798287</td>\n",
       "    </tr>\n",
       "    <tr>\n",
       "      <th>11</th>\n",
       "      <td>Pop</td>\n",
       "      <td>22</td>\n",
       "      <td>2.093245</td>\n",
       "    </tr>\n",
       "    <tr>\n",
       "      <th>12</th>\n",
       "      <td>R&amp;B/Soul</td>\n",
       "      <td>53</td>\n",
       "      <td>5.042816</td>\n",
       "    </tr>\n",
       "    <tr>\n",
       "      <th>13</th>\n",
       "      <td>Reggae</td>\n",
       "      <td>6</td>\n",
       "      <td>0.570885</td>\n",
       "    </tr>\n",
       "    <tr>\n",
       "      <th>14</th>\n",
       "      <td>Rock</td>\n",
       "      <td>561</td>\n",
       "      <td>53.377735</td>\n",
       "    </tr>\n",
       "    <tr>\n",
       "      <th>15</th>\n",
       "      <td>Soundtrack</td>\n",
       "      <td>2</td>\n",
       "      <td>0.190295</td>\n",
       "    </tr>\n",
       "    <tr>\n",
       "      <th>16</th>\n",
       "      <td>TV Shows</td>\n",
       "      <td>1</td>\n",
       "      <td>0.095147</td>\n",
       "    </tr>\n",
       "  </tbody>\n",
       "</table>\n",
       "</div>"
      ],
      "text/plain": [
       "                 genre  no_tracks_sold  percent_tracks_sold\n",
       "0          Alternative              35             3.330162\n",
       "1   Alternative & Punk             130            12.369172\n",
       "2                Blues              36             3.425309\n",
       "3            Classical               4             0.380590\n",
       "4       Easy Listening              13             1.236917\n",
       "5    Electronica/Dance               5             0.475737\n",
       "6          Heavy Metal               3             0.285442\n",
       "7          Hip Hop/Rap              20             1.902950\n",
       "8                 Jazz              14             1.332065\n",
       "9                Latin              22             2.093245\n",
       "10               Metal             124            11.798287\n",
       "11                 Pop              22             2.093245\n",
       "12            R&B/Soul              53             5.042816\n",
       "13              Reggae               6             0.570885\n",
       "14                Rock             561            53.377735\n",
       "15          Soundtrack               2             0.190295\n",
       "16            TV Shows               1             0.095147"
      ]
     },
     "execution_count": 7,
     "metadata": {},
     "output_type": "execute_result"
    }
   ],
   "source": [
    "q = '''\n",
    "WITH usa_tracks AS\n",
    "(\n",
    "    SELECT g.name, il.track_id FROM genre AS g\n",
    "    INNER JOIN track AS t ON t.genre_id = g.genre_id\n",
    "    INNER JOIN invoice_line AS il ON il.track_id = t.track_id\n",
    "    INNER JOIN invoice AS i ON i.invoice_id = il.invoice_id\n",
    "    INNER JOIN customer AS c ON c.customer_id = i.customer_id\n",
    "    WHERE c.country = \"USA\"\n",
    ")\n",
    "\n",
    "\n",
    "SELECT\n",
    "    name AS genre,\n",
    "    COUNT(track_id) AS no_tracks_sold,\n",
    "    (CAST(COUNT(track_id) AS FLOAT) / (SELECT COUNT(track_id) FROM usa_tracks))*100 AS percent_tracks_sold\n",
    "FROM usa_tracks\n",
    "GROUP BY 1\n",
    "'''\n",
    "usa_tracks_sold_genre = run_query(q)\n",
    "usa_tracks_sold_genre\n"
   ]
  },
  {
   "cell_type": "code",
   "execution_count": 8,
   "metadata": {},
   "outputs": [
    {
     "data": {
      "text/plain": [
       "<matplotlib.axes._subplots.AxesSubplot at 0x10b5e2f28>"
      ]
     },
     "execution_count": 8,
     "metadata": {},
     "output_type": "execute_result"
    },
    {
     "data": {
      "image/png": "[encoded data removed]",
      "text/plain": [
       "<Figure size 432x288 with 1 Axes>"
      ]
     },
     "metadata": {},
     "output_type": "display_data"
    }
   ],
   "source": [
    "usa_genre_sold = usa_tracks_sold_genre[['genre', 'no_tracks_sold']].set_index('genre')\n",
    "usa_genre_sold.plot.bar()"
   ]
  },
  {
   "cell_type": "markdown",
   "metadata": {},
   "source": [
    "Rock is by far the most sold genre in the USA, followed by Alternative & Punk and then Metal. Other notable genres are R&B/Soul, Alternative, Blues and Pop.\n",
    "\n",
    "Considering the list of artists and their genre's provided to me, I would recommend, in order from most recommended to least, Red Tone (Punk), Slim Jim Bites (Blues), and Meteor and the Girls (Pop). Regal (Hip Hop) gets left out as the other genres scored my highly than theirs."
   ]
  },
  {
   "cell_type": "markdown",
   "metadata": {},
   "source": [
    "# Employee performance"
   ]
  },
  {
   "cell_type": "code",
   "execution_count": 9,
   "metadata": {},
   "outputs": [
    {
     "data": {
      "text/html": [
       "<div>\n",
       "<style>\n",
       "    .dataframe thead tr:only-child th {\n",
       "        text-align: right;\n",
       "    }\n",
       "\n",
       "    .dataframe thead th {\n",
       "        text-align: left;\n",
       "    }\n",
       "\n",
       "    .dataframe tbody tr th {\n",
       "        vertical-align: top;\n",
       "    }\n",
       "</style>\n",
       "<table border=\"1\" class=\"dataframe\">\n",
       "  <thead>\n",
       "    <tr style=\"text-align: right;\">\n",
       "      <th></th>\n",
       "      <th>employee_name</th>\n",
       "      <th>hire_date</th>\n",
       "      <th>country</th>\n",
       "      <th>total_sales</th>\n",
       "    </tr>\n",
       "  </thead>\n",
       "  <tbody>\n",
       "    <tr>\n",
       "      <th>0</th>\n",
       "      <td>Jane Peacock</td>\n",
       "      <td>2017-04-01 00:00:00</td>\n",
       "      <td>Canada</td>\n",
       "      <td>1731.51</td>\n",
       "    </tr>\n",
       "    <tr>\n",
       "      <th>1</th>\n",
       "      <td>Margaret Park</td>\n",
       "      <td>2017-05-03 00:00:00</td>\n",
       "      <td>Canada</td>\n",
       "      <td>1584.00</td>\n",
       "    </tr>\n",
       "    <tr>\n",
       "      <th>2</th>\n",
       "      <td>Steve Johnson</td>\n",
       "      <td>2017-10-17 00:00:00</td>\n",
       "      <td>Canada</td>\n",
       "      <td>1393.92</td>\n",
       "    </tr>\n",
       "  </tbody>\n",
       "</table>\n",
       "</div>"
      ],
      "text/plain": [
       "   employee_name            hire_date country  total_sales\n",
       "0   Jane Peacock  2017-04-01 00:00:00  Canada      1731.51\n",
       "1  Margaret Park  2017-05-03 00:00:00  Canada      1584.00\n",
       "2  Steve Johnson  2017-10-17 00:00:00  Canada      1393.92"
      ]
     },
     "execution_count": 9,
     "metadata": {},
     "output_type": "execute_result"
    }
   ],
   "source": [
    "q = '''\n",
    "SELECT\n",
    "    (e.first_name || ' ' || e.last_name) AS employee_name, \n",
    "    e.hire_date, \n",
    "    e.country, \n",
    "    SUM(i.total) AS total_sales \n",
    "FROM employee AS e\n",
    "INNER JOIN customer AS c ON c.support_rep_id = e.employee_id\n",
    "INNER JOIN invoice AS i ON i.customer_id = c.customer_id\n",
    "GROUP BY 1\n",
    "'''\n",
    "employee_sales = run_query(q)\n",
    "employee_sales"
   ]
  },
  {
   "cell_type": "code",
   "execution_count": 10,
   "metadata": {},
   "outputs": [
    {
     "data": {
      "text/plain": [
       "<matplotlib.axes._subplots.AxesSubplot at 0x10b902198>"
      ]
     },
     "execution_count": 10,
     "metadata": {},
     "output_type": "execute_result"
    },
    {
     "data": {
      "image/png": "[encoded data removed]",
      "text/plain": [
       "<Figure size 432x288 with 1 Axes>"
      ]
     },
     "metadata": {},
     "output_type": "display_data"
    }
   ],
   "source": [
    "employee_sales[['employee_name', 'total_sales']].set_index('employee_name').plot.bar()"
   ]
  },
  {
   "cell_type": "markdown",
   "metadata": {},
   "source": [
    "All employees have sold almost the same amount of records if we take into account the data they were hired as well."
   ]
  },
  {
   "cell_type": "markdown",
   "metadata": {},
   "source": [
    "# Sales by country"
   ]
  },
  {
   "cell_type": "code",
   "execution_count": 11,
   "metadata": {},
   "outputs": [
    {
     "data": {
      "text/html": [
       "<div>\n",
       "<style>\n",
       "    .dataframe thead tr:only-child th {\n",
       "        text-align: right;\n",
       "    }\n",
       "\n",
       "    .dataframe thead th {\n",
       "        text-align: left;\n",
       "    }\n",
       "\n",
       "    .dataframe tbody tr th {\n",
       "        vertical-align: top;\n",
       "    }\n",
       "</style>\n",
       "<table border=\"1\" class=\"dataframe\">\n",
       "  <thead>\n",
       "    <tr style=\"text-align: right;\">\n",
       "      <th></th>\n",
       "      <th>country</th>\n",
       "      <th>total_customers</th>\n",
       "      <th>total_sales_val</th>\n",
       "      <th>mean_order_val</th>\n",
       "      <th>mean_customer_lifetime_val</th>\n",
       "    </tr>\n",
       "  </thead>\n",
       "  <tbody>\n",
       "    <tr>\n",
       "      <th>0</th>\n",
       "      <td>USA</td>\n",
       "      <td>13</td>\n",
       "      <td>1040.49</td>\n",
       "      <td>7.942672</td>\n",
       "      <td>80.037692</td>\n",
       "    </tr>\n",
       "    <tr>\n",
       "      <th>1</th>\n",
       "      <td>Canada</td>\n",
       "      <td>8</td>\n",
       "      <td>535.59</td>\n",
       "      <td>7.047237</td>\n",
       "      <td>66.948750</td>\n",
       "    </tr>\n",
       "    <tr>\n",
       "      <th>2</th>\n",
       "      <td>Brazil</td>\n",
       "      <td>5</td>\n",
       "      <td>427.68</td>\n",
       "      <td>7.011148</td>\n",
       "      <td>85.536000</td>\n",
       "    </tr>\n",
       "    <tr>\n",
       "      <th>3</th>\n",
       "      <td>France</td>\n",
       "      <td>5</td>\n",
       "      <td>389.07</td>\n",
       "      <td>7.781400</td>\n",
       "      <td>77.814000</td>\n",
       "    </tr>\n",
       "    <tr>\n",
       "      <th>4</th>\n",
       "      <td>Germany</td>\n",
       "      <td>4</td>\n",
       "      <td>334.62</td>\n",
       "      <td>8.161463</td>\n",
       "      <td>83.655000</td>\n",
       "    </tr>\n",
       "    <tr>\n",
       "      <th>5</th>\n",
       "      <td>Czech Republic</td>\n",
       "      <td>2</td>\n",
       "      <td>273.24</td>\n",
       "      <td>9.108000</td>\n",
       "      <td>136.620000</td>\n",
       "    </tr>\n",
       "    <tr>\n",
       "      <th>6</th>\n",
       "      <td>United Kingdom</td>\n",
       "      <td>3</td>\n",
       "      <td>245.52</td>\n",
       "      <td>8.768571</td>\n",
       "      <td>81.840000</td>\n",
       "    </tr>\n",
       "    <tr>\n",
       "      <th>7</th>\n",
       "      <td>Portugal</td>\n",
       "      <td>2</td>\n",
       "      <td>185.13</td>\n",
       "      <td>6.383793</td>\n",
       "      <td>92.565000</td>\n",
       "    </tr>\n",
       "    <tr>\n",
       "      <th>8</th>\n",
       "      <td>India</td>\n",
       "      <td>2</td>\n",
       "      <td>183.15</td>\n",
       "      <td>8.721429</td>\n",
       "      <td>91.575000</td>\n",
       "    </tr>\n",
       "    <tr>\n",
       "      <th>9</th>\n",
       "      <td>Other</td>\n",
       "      <td>15</td>\n",
       "      <td>1094.94</td>\n",
       "      <td>7.448571</td>\n",
       "      <td>72.996000</td>\n",
       "    </tr>\n",
       "  </tbody>\n",
       "</table>\n",
       "</div>"
      ],
      "text/plain": [
       "          country  total_customers  total_sales_val  mean_order_val  \\\n",
       "0             USA               13          1040.49        7.942672   \n",
       "1          Canada                8           535.59        7.047237   \n",
       "2          Brazil                5           427.68        7.011148   \n",
       "3          France                5           389.07        7.781400   \n",
       "4         Germany                4           334.62        8.161463   \n",
       "5  Czech Republic                2           273.24        9.108000   \n",
       "6  United Kingdom                3           245.52        8.768571   \n",
       "7        Portugal                2           185.13        6.383793   \n",
       "8           India                2           183.15        8.721429   \n",
       "9           Other               15          1094.94        7.448571   \n",
       "\n",
       "   mean_customer_lifetime_val  \n",
       "0                   80.037692  \n",
       "1                   66.948750  \n",
       "2                   85.536000  \n",
       "3                   77.814000  \n",
       "4                   83.655000  \n",
       "5                  136.620000  \n",
       "6                   81.840000  \n",
       "7                   92.565000  \n",
       "8                   91.575000  \n",
       "9                   72.996000  "
      ]
     },
     "execution_count": 11,
     "metadata": {},
     "output_type": "execute_result"
    }
   ],
   "source": [
    "q = '''\n",
    "WITH country_or_other AS (\n",
    "    SELECT\n",
    "        CASE\n",
    "            WHEN (\n",
    "                SELECT COUNT(*)\n",
    "                FROM customer\n",
    "                WHERE country = c.country\n",
    "                ) = 1 THEN \"Other\"\n",
    "                ELSE country\n",
    "        END AS country,\n",
    "        c.customer_id,\n",
    "        i.*\n",
    "    FROM customer AS c\n",
    "    INNER JOIN invoice AS i ON i.customer_id = c.customer_id\n",
    ")\n",
    "SELECT\n",
    "    country,\n",
    "    total_customers,\n",
    "    total_sales_val,\n",
    "    mean_order_val,\n",
    "    mean_customer_lifetime_val\n",
    "FROM (\n",
    "    SELECT\n",
    "        country,\n",
    "        COUNT(DISTINCT(customer_id)) AS total_customers,\n",
    "        SUM(total) AS total_sales_val,\n",
    "        SUM(total) / COUNT(invoice_id) AS mean_order_val,\n",
    "        SUM(total) / COUNT(DISTINCT(customer_id)) AS mean_customer_lifetime_val,\n",
    "        CASE\n",
    "            WHEN country = \"Other\"\n",
    "                THEN 1\n",
    "                ELSE 0\n",
    "        END AS sort\n",
    "    FROM country_or_other AS c\n",
    "    GROUP BY c.country\n",
    "    ORDER BY sort ASC, total_sales_val DESC\n",
    ")\n",
    "'''\n",
    "\n",
    "country_sales = run_query(q)\n",
    "country_sales"
   ]
  },
  {
   "cell_type": "code",
   "execution_count": 12,
   "metadata": {
    "scrolled": false
   },
   "outputs": [
    {
     "data": {
      "image/png": "[encoded data removed]",
      "text/plain": [
       "<Figure size 432x288 with 1 Axes>"
      ]
     },
     "metadata": {},
     "output_type": "display_data"
    }
   ],
   "source": [
    "sns.set(style='whitegrid')\n",
    "\n",
    "# Initialize the matplotlib figure\n",
    "f, ax = plt.subplots()\n",
    "\n",
    "# Plot the total crashes\n",
    "sns.set_color_codes('pastel')\n",
    "sns.barplot(x='total_customers', y='country', data=country_sales,\n",
    "            label='Country Sales', color='b')\n",
    "\n",
    "# Add a legend and informative axis label\n",
    "ax.set_title('Total Customers Per Country')\n",
    "ax.set(xlim=(0, 15), ylabel='', xlabel='')\n",
    "sns.despine(left=True, bottom=True)"
   ]
  },
  {
   "cell_type": "code",
   "execution_count": 13,
   "metadata": {},
   "outputs": [
    {
     "data": {
      "image/png": "[encoded data removed]",
      "text/plain": [
       "<Figure size 432x288 with 1 Axes>"
      ]
     },
     "metadata": {},
     "output_type": "display_data"
    }
   ],
   "source": [
    "sns.set(style='whitegrid')\n",
    "\n",
    "# Initialize the matplotlib figure\n",
    "f, ax = plt.subplots()\n",
    "\n",
    "# Plot the total crashes\n",
    "sns.set_color_codes('pastel')\n",
    "sns.barplot(x='total_sales_val', y='country', data=country_sales,\n",
    "            label='Country Sales', color='b')\n",
    "\n",
    "# Add a legend and informative axis label\n",
    "ax.set_title('Total Sales Value Per Country ($)')\n",
    "ax.set(xlim=(0,1150), ylabel='', xlabel='')\n",
    "sns.despine(left=True, bottom=True)"
   ]
  },
  {
   "cell_type": "code",
   "execution_count": 14,
   "metadata": {},
   "outputs": [
    {
     "data": {
      "image/png": "[encoded data removed]",
      "text/plain": [
       "<Figure size 432x288 with 1 Axes>"
      ]
     },
     "metadata": {},
     "output_type": "display_data"
    }
   ],
   "source": [
    "sns.set(style='white')\n",
    "\n",
    "# Initialize the matplotlib figure\n",
    "f, ax = plt.subplots()\n",
    "\n",
    "# Plot the total crashes\n",
    "sns.set_color_codes('pastel')\n",
    "sns.barplot(x='mean_order_val', y='country', data=country_sales,\n",
    "            label='Country Sales', color='b')\n",
    "\n",
    "# Add a legend and informative axis label\n",
    "ax.set_title('Mean Order Value Per Country ($)')\n",
    "ax.set(xlim=(0,9.5), ylabel='', xlabel='')\n",
    "sns.despine(left=True, bottom=True)"
   ]
  },
  {
   "cell_type": "code",
   "execution_count": 15,
   "metadata": {},
   "outputs": [
    {
     "data": {
      "image/png": "[encoded data removed]",
      "text/plain": [
       "<Figure size 432x288 with 1 Axes>"
      ]
     },
     "metadata": {},
     "output_type": "display_data"
    }
   ],
   "source": [
    "sns.set(style='white')\n",
    "\n",
    "# Initialize the matplotlib figure\n",
    "f, ax = plt.subplots()\n",
    "\n",
    "# Plot the total crashes\n",
    "sns.set_color_codes('pastel')\n",
    "sns.barplot(x='mean_customer_lifetime_val', y='country', data=country_sales,\n",
    "            label='Country Sales', color='b')\n",
    "\n",
    "# Add a legend and informative axis label\n",
    "ax.set_title('Mean Customer Lifetime Value Per Country ($)')\n",
    "ax.set(ylabel='', xlabel='')\n",
    "sns.despine(left=True, bottom=True)"
   ]
  },
  {
   "cell_type": "markdown",
   "metadata": {},
   "source": [
    "Quite clearly, customers from the US far outweigh customers from all other countries. More interestingly however, are the columns comparing order values and amount spent per customer. The Czech Republic shows great potential for growth, with the highest mean order values and mean customer lifetime values. Other interesting prospects include Portugal, India, Brazil, and Germany."
   ]
  },
  {
   "cell_type": "markdown",
   "metadata": {},
   "source": [
    "# How customers purchase: album vs individual tracks"
   ]
  },
  {
   "cell_type": "code",
   "execution_count": 17,
   "metadata": {},
   "outputs": [
    {
     "data": {
      "text/html": [
       "<div>\n",
       "<style>\n",
       "    .dataframe thead tr:only-child th {\n",
       "        text-align: right;\n",
       "    }\n",
       "\n",
       "    .dataframe thead th {\n",
       "        text-align: left;\n",
       "    }\n",
       "\n",
       "    .dataframe tbody tr th {\n",
       "        vertical-align: top;\n",
       "    }\n",
       "</style>\n",
       "<table border=\"1\" class=\"dataframe\">\n",
       "  <thead>\n",
       "    <tr style=\"text-align: right;\">\n",
       "      <th></th>\n",
       "      <th>yes</th>\n",
       "      <th>no</th>\n",
       "      <th>percent_yes</th>\n",
       "      <th>percent_no</th>\n",
       "    </tr>\n",
       "  </thead>\n",
       "  <tbody>\n",
       "    <tr>\n",
       "      <th>0</th>\n",
       "      <td>121</td>\n",
       "      <td>493</td>\n",
       "      <td>19.70684</td>\n",
       "      <td>80.29316</td>\n",
       "    </tr>\n",
       "  </tbody>\n",
       "</table>\n",
       "</div>"
      ],
      "text/plain": [
       "   yes   no  percent_yes  percent_no\n",
       "0  121  493     19.70684    80.29316"
      ]
     },
     "execution_count": 17,
     "metadata": {},
     "output_type": "execute_result"
    }
   ],
   "source": [
    "run_command('DROP VIEW album_track_counts')\n",
    "\n",
    "c = '''\n",
    "CREATE VIEW album_track_counts AS\n",
    "    SELECT album_id, COUNT(*) AS album_tracks\n",
    "    FROM track\n",
    "    GROUP BY album_id;\n",
    "'''\n",
    "run_command(c)\n",
    "\n",
    "q = '''\n",
    "WITH yes_no_albums AS (\n",
    "    SELECT\n",
    "        CASE\n",
    "            WHEN COUNT(t.track_id) = atc.album_tracks\n",
    "                THEN 1\n",
    "                ELSE 0\n",
    "        END AS yes,\n",
    "        CASE\n",
    "            WHEN COUNT(t.track_id) != atc.album_tracks\n",
    "                THEN 1\n",
    "                ELSE 0\n",
    "        END AS no\n",
    "    FROM invoice AS i\n",
    "    INNER JOIN invoice_line AS il ON il.invoice_id = i.invoice_id\n",
    "    INNER JOIN track AS t ON t.track_id = il.track_id\n",
    "    INNER JOIN album_track_counts AS atc ON atc.album_id = t.album_id\n",
    "    GROUP BY i.invoice_id\n",
    ")\n",
    "\n",
    "SELECT\n",
    "    SUM(yes) AS yes,\n",
    "    SUM(no) AS no,\n",
    "    (CAST(SUM(yes) AS FLOAT) / (SUM(yes) + SUM(no))) * 100 AS percent_yes,\n",
    "    (CAST(SUM(no) AS FLOAT) / (SUM(yes) + SUM(no))) * 100 AS percent_no\n",
    "FROM yes_no_albums;\n",
    "'''\n",
    "\n",
    "run_query(q)"
   ]
  },
  {
   "cell_type": "markdown",
   "metadata": {
    "collapsed": true
   },
   "source": [
    "Most customers purchase individual tracks from albums instead of buying the full album. Despite this, almost 20% of customers still choose to purchase the full albums. By only buying the most popular tracks from each album, the record store would be losing almost 20% of their sales. This is not a good idea."
   ]
  },
  {
   "cell_type": "code",
   "execution_count": null,
   "metadata": {
    "collapsed": true
   },
   "outputs": [],
   "source": []
  }
 ],
 "metadata": {
  "kernelspec": {
   "display_name": "Python 3",
   "language": "python",
   "name": "python3"
  },
  "language_info": {
   "codemirror_mode": {
    "name": "ipython",
    "version": 3
   },
   "file_extension": ".py",
   "mimetype": "text/x-python",
   "name": "python",
   "nbconvert_exporter": "python",
   "pygments_lexer": "ipython3",
   "version": "3.6.3"
  }
 },
 "nbformat": 4,
 "nbformat_minor": 2
}
